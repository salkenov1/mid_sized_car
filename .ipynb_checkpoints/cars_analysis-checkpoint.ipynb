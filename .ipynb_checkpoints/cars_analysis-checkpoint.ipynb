{
 "cells": [
  {
   "cell_type": "code",
   "execution_count": 57,
   "metadata": {},
   "outputs": [],
   "source": [
    "import pandas as pd\n",
    "import numpy as np\n",
    "import matplotlib.pyplot as plt\n",
    "import seaborn as sns\n",
    "import "
   ]
  },
  {
   "cell_type": "markdown",
   "metadata": {},
   "source": [
    "## Data mining and cleaning"
   ]
  },
  {
   "cell_type": "code",
   "execution_count": 58,
   "metadata": {},
   "outputs": [],
   "source": [
    "toyota_data = pd.read_csv(\"cars_toyota.csv\")\n",
    "kia_data = pd.read_csv(\"cars_kia.csv\")\n",
    "mazda_data = pd.read_csv(\"cars_mazda.csv\")\n",
    "hyundai_data = pd.read_csv(\"cars_hyundai.csv\")"
   ]
  },
  {
   "cell_type": "markdown",
   "metadata": {},
   "source": [
    "According to the table above, there is the column that must be deleted\n",
    "Also, `car_price` and `car_description` contain unstructured data. For example, the car's year can be a separate column as well the engine characteristics, mileage etc. "
   ]
  },
  {
   "cell_type": "code",
   "execution_count": 59,
   "metadata": {},
   "outputs": [],
   "source": [
    "toyota_data = toyota_data.drop(\"Unnamed: 0\" ,axis=1)\n",
    "kia_data = kia_data.drop(\"Unnamed: 0\" ,axis=1)\n",
    "mazda_data = mazda_data.drop(\"Unnamed: 0\" ,axis=1)\n",
    "hyundai_data = hyundai_data.drop(\"Unnamed: 0\" ,axis=1)"
   ]
  },
  {
   "cell_type": "code",
   "execution_count": 60,
   "metadata": {},
   "outputs": [],
   "source": [
    "toyota_data.rename(columns={\"car_titlem\": \"car_title\"}, inplace=True)\n",
    "kia_data.rename(columns={\"car_titlem\": \"car_title\"}, inplace=True)\n",
    "hyundai_data.rename(columns={\"car_titlem\": \"car_title\"}, inplace=True)"
   ]
  },
  {
   "cell_type": "markdown",
   "metadata": {},
   "source": [
    "Remove `car_price`'s chars"
   ]
  },
  {
   "cell_type": "code",
   "execution_count": 61,
   "metadata": {},
   "outputs": [],
   "source": [
    "frames = [toyota_data, kia_data, mazda_data, hyundai_data]\n",
    "data = pd.concat(frames)"
   ]
  },
  {
   "cell_type": "code",
   "execution_count": 62,
   "metadata": {},
   "outputs": [],
   "source": [
    "data[\"car_price\"] = data[\"car_price\"].str.replace(\" \", \"\")\n",
    "data[\"car_price\"] = data[\"car_price\"].str.replace(\"₸\", \"\")\n",
    "# Later I may need to transform `car_price` into float"
   ]
  },
  {
   "cell_type": "markdown",
   "metadata": {},
   "source": [
    "Split `car_description` to get additional information on car selling details"
   ]
  },
  {
   "cell_type": "code",
   "execution_count": 63,
   "metadata": {},
   "outputs": [],
   "source": [
    "# regex patterns to extract information into seperate columns and then remove it from the previous one\n",
    "order_pat = r'новая[,\\/]?|на заказ[,\\/]?'\n",
    "asap_pat = r'срочно[,\\/]?|[торг]{4}?[,\\/]?'\n",
    "broken_pat = r'не на ходу[,\\/]?|аварийная[,\\/]?'"
   ]
  },
  {
   "cell_type": "code",
   "execution_count": 64,
   "metadata": {},
   "outputs": [],
   "source": [
    "data[\"car_description\"] = data[\"car_description\"].str.replace(\"торг[,\\/]?\", \"\")\n",
    "data[\"car_description\"] = data[\"car_description\"].str.replace(\" \", \"\")"
   ]
  },
  {
   "cell_type": "code",
   "execution_count": 65,
   "metadata": {},
   "outputs": [],
   "source": [
    "data[\"pre_order\"] = data[\"car_description\"].str.contains(pat=order_pat)\n",
    "data[\"car_description\"] = data[\"car_description\"].str.replace(order_pat, \"\")"
   ]
  },
  {
   "cell_type": "code",
   "execution_count": 66,
   "metadata": {},
   "outputs": [],
   "source": [
    "data[\"asap_negotiable\"] = data[\"car_description\"].str.contains(pat=asap_pat)\n",
    "data[\"car_description\"] = data[\"car_description\"].str.replace(asap_pat, \"\")"
   ]
  },
  {
   "cell_type": "code",
   "execution_count": 67,
   "metadata": {},
   "outputs": [],
   "source": [
    "data[\"broken\"] = data[\"car_description\"].str.contains(pat=broken_pat)\n",
    "data[\"car_description\"] = data[\"car_description\"].str.replace(broken_pat, \"\")"
   ]
  },
  {
   "cell_type": "markdown",
   "metadata": {},
   "source": [
    "All the details related to selling are extracted and prepared. Now I will get details about the cars"
   ]
  },
  {
   "cell_type": "code",
   "execution_count": 68,
   "metadata": {},
   "outputs": [],
   "source": [
    "# regex patterns to extract data into seperate columns from the description\n",
    "year_pat = r'(\\d{4})'\n",
    "odometer_pat = r'(\\d+?\\.*\\d*(?=км))'\n",
    "engine_pat = r'(\\d+?\\.*\\d*(?=л))'"
   ]
  },
  {
   "cell_type": "code",
   "execution_count": 69,
   "metadata": {},
   "outputs": [],
   "source": [
    "#extract information into separate columns from the description\n",
    "data[\"car_year\"] = data[\"car_description\"].str.extract(pat=year_pat)\n",
    "data[\"odometer\"] = data[\"car_description\"].str.extract(pat=odometer_pat)\n",
    "data[\"engine\"] = data[\"car_description\"].str.extract(pat=engine_pat)"
   ]
  },
  {
   "cell_type": "code",
   "execution_count": 70,
   "metadata": {},
   "outputs": [],
   "source": [
    "#remove the 'description' column\n",
    "data.drop(\"car_description\", axis=1, inplace=True)"
   ]
  },
  {
   "cell_type": "code",
   "execution_count": 71,
   "metadata": {},
   "outputs": [
    {
     "name": "stdout",
     "output_type": "stream",
     "text": [
      "<class 'pandas.core.frame.DataFrame'>\n",
      "Int64Index: 48665 entries, 0 to 3343\n",
      "Data columns (total 9 columns):\n",
      "car_title          48665 non-null object\n",
      "car_price          48665 non-null object\n",
      "car_location       48665 non-null object\n",
      "pre_order          48665 non-null bool\n",
      "asap_negotiable    48665 non-null bool\n",
      "broken             48665 non-null bool\n",
      "car_year           48665 non-null object\n",
      "odometer           39550 non-null object\n",
      "engine             48665 non-null object\n",
      "dtypes: bool(3), object(6)\n",
      "memory usage: 2.7+ MB\n"
     ]
    }
   ],
   "source": [
    "data.info()"
   ]
  },
  {
   "cell_type": "code",
   "execution_count": 72,
   "metadata": {},
   "outputs": [
    {
     "name": "stdout",
     "output_type": "stream",
     "text": [
      "<class 'pandas.core.frame.DataFrame'>\n",
      "Int64Index: 48445 entries, 0 to 3343\n",
      "Data columns (total 9 columns):\n",
      "car_title          48445 non-null object\n",
      "car_price          48445 non-null object\n",
      "car_location       48445 non-null object\n",
      "pre_order          48445 non-null bool\n",
      "asap_negotiable    48445 non-null bool\n",
      "broken             48445 non-null bool\n",
      "car_year           48445 non-null object\n",
      "odometer           39410 non-null object\n",
      "engine             48445 non-null object\n",
      "dtypes: bool(3), object(6)\n",
      "memory usage: 2.7+ MB\n"
     ]
    }
   ],
   "source": [
    "#before I change data types of values I would like to remove broken cars from the dataframe\n",
    "data.drop(data[data[\"broken\"]==True].index, inplace=True)\n",
    "data.info()"
   ]
  },
  {
   "cell_type": "code",
   "execution_count": 73,
   "metadata": {},
   "outputs": [],
   "source": [
    "data.drop(\"broken\", axis=1, inplace=True)"
   ]
  },
  {
   "cell_type": "code",
   "execution_count": 74,
   "metadata": {},
   "outputs": [],
   "source": [
    "data[[\"car_price\", \"car_year\", \"odometer\", \"engine\"]] = data[[\"car_price\", \"car_year\", \"odometer\", \"engine\"]].astype(float)"
   ]
  },
  {
   "cell_type": "code",
   "execution_count": 75,
   "metadata": {},
   "outputs": [
    {
     "data": {
      "text/plain": [
       "NaN         9035\n",
       "120000.0     680\n",
       "140000.0     640\n",
       "80000.0      640\n",
       "90000.0      552\n",
       "            ... \n",
       "86373.0       20\n",
       "50743.0       12\n",
       "43500.0       11\n",
       "114465.0      11\n",
       "77200.0       11\n",
       "Name: odometer, Length: 585, dtype: int64"
      ]
     },
     "execution_count": 75,
     "metadata": {},
     "output_type": "execute_result"
    }
   ],
   "source": [
    "#Now I need to identify what to do with the missing odometer values\n",
    "data[\"odometer\"].value_counts(dropna=False)"
   ]
  },
  {
   "cell_type": "markdown",
   "metadata": {},
   "source": [
    "**According to common sense if cars are manufactured in 2019 (or 2018 in rare cases) they are new and thus odometer is 0. Let's check how many values will be left after applying it.**"
   ]
  },
  {
   "cell_type": "code",
   "execution_count": 76,
   "metadata": {},
   "outputs": [],
   "source": [
    "def assign_odometer(x):\n",
    "    if (x[\"car_year\"] == 2019.0 or x[\"car_year\"] == 2018.0) and np.isnan(x[\"odometer\"]):\n",
    "        return 0.0\n",
    "    else: \n",
    "        return x[\"odometer\"]"
   ]
  },
  {
   "cell_type": "code",
   "execution_count": 77,
   "metadata": {},
   "outputs": [],
   "source": [
    "data[\"odometer\"] = data.apply(assign_odometer, axis=1)"
   ]
  },
  {
   "cell_type": "code",
   "execution_count": 78,
   "metadata": {},
   "outputs": [
    {
     "data": {
      "text/plain": [
       "NaN         5435\n",
       "0.0         3600\n",
       "120000.0     680\n",
       "140000.0     640\n",
       "80000.0      640\n",
       "            ... \n",
       "31703.0       20\n",
       "50743.0       12\n",
       "43500.0       11\n",
       "114465.0      11\n",
       "77200.0       11\n",
       "Name: odometer, Length: 586, dtype: int64"
      ]
     },
     "execution_count": 78,
     "metadata": {},
     "output_type": "execute_result"
    }
   ],
   "source": [
    "data[\"odometer\"].value_counts(dropna=False)"
   ]
  },
  {
   "cell_type": "code",
   "execution_count": 79,
   "metadata": {},
   "outputs": [
    {
     "name": "stdout",
     "output_type": "stream",
     "text": [
      "<class 'pandas.core.frame.DataFrame'>\n",
      "Int64Index: 48445 entries, 0 to 3343\n",
      "Data columns (total 8 columns):\n",
      "car_title          48445 non-null object\n",
      "car_price          48445 non-null float64\n",
      "car_location       48445 non-null object\n",
      "pre_order          48445 non-null bool\n",
      "asap_negotiable    48445 non-null bool\n",
      "car_year           48445 non-null float64\n",
      "odometer           43010 non-null float64\n",
      "engine             48445 non-null float64\n",
      "dtypes: bool(2), float64(4), object(2)\n",
      "memory usage: 2.7+ MB\n"
     ]
    }
   ],
   "source": [
    "data.info()"
   ]
  },
  {
   "cell_type": "code",
   "execution_count": 80,
   "metadata": {},
   "outputs": [
    {
     "data": {
      "text/html": [
       "<div>\n",
       "<style scoped>\n",
       "    .dataframe tbody tr th:only-of-type {\n",
       "        vertical-align: middle;\n",
       "    }\n",
       "\n",
       "    .dataframe tbody tr th {\n",
       "        vertical-align: top;\n",
       "    }\n",
       "\n",
       "    .dataframe thead th {\n",
       "        text-align: right;\n",
       "    }\n",
       "</style>\n",
       "<table border=\"1\" class=\"dataframe\">\n",
       "  <thead>\n",
       "    <tr style=\"text-align: right;\">\n",
       "      <th></th>\n",
       "      <th>car_title</th>\n",
       "      <th>car_price</th>\n",
       "      <th>car_location</th>\n",
       "      <th>pre_order</th>\n",
       "      <th>asap_negotiable</th>\n",
       "      <th>car_year</th>\n",
       "      <th>odometer</th>\n",
       "      <th>engine</th>\n",
       "    </tr>\n",
       "  </thead>\n",
       "  <tbody>\n",
       "    <tr>\n",
       "      <th>806</th>\n",
       "      <td>Toyota Camry</td>\n",
       "      <td>5800000.0</td>\n",
       "      <td>Актобе</td>\n",
       "      <td>False</td>\n",
       "      <td>False</td>\n",
       "      <td>2012.0</td>\n",
       "      <td>NaN</td>\n",
       "      <td>3.5</td>\n",
       "    </tr>\n",
       "    <tr>\n",
       "      <th>826</th>\n",
       "      <td>Toyota Camry</td>\n",
       "      <td>5800000.0</td>\n",
       "      <td>Актобе</td>\n",
       "      <td>False</td>\n",
       "      <td>False</td>\n",
       "      <td>2012.0</td>\n",
       "      <td>NaN</td>\n",
       "      <td>3.5</td>\n",
       "    </tr>\n",
       "    <tr>\n",
       "      <th>846</th>\n",
       "      <td>Toyota Camry</td>\n",
       "      <td>5800000.0</td>\n",
       "      <td>Актобе</td>\n",
       "      <td>False</td>\n",
       "      <td>False</td>\n",
       "      <td>2012.0</td>\n",
       "      <td>NaN</td>\n",
       "      <td>3.5</td>\n",
       "    </tr>\n",
       "    <tr>\n",
       "      <th>866</th>\n",
       "      <td>Toyota Camry</td>\n",
       "      <td>5800000.0</td>\n",
       "      <td>Актобе</td>\n",
       "      <td>False</td>\n",
       "      <td>False</td>\n",
       "      <td>2012.0</td>\n",
       "      <td>NaN</td>\n",
       "      <td>3.5</td>\n",
       "    </tr>\n",
       "    <tr>\n",
       "      <th>886</th>\n",
       "      <td>Toyota Camry</td>\n",
       "      <td>5800000.0</td>\n",
       "      <td>Актобе</td>\n",
       "      <td>False</td>\n",
       "      <td>False</td>\n",
       "      <td>2012.0</td>\n",
       "      <td>NaN</td>\n",
       "      <td>3.5</td>\n",
       "    </tr>\n",
       "  </tbody>\n",
       "</table>\n",
       "</div>"
      ],
      "text/plain": [
       "        car_title  car_price car_location  pre_order  asap_negotiable  \\\n",
       "806  Toyota Camry  5800000.0       Актобе      False            False   \n",
       "826  Toyota Camry  5800000.0       Актобе      False            False   \n",
       "846  Toyota Camry  5800000.0       Актобе      False            False   \n",
       "866  Toyota Camry  5800000.0       Актобе      False            False   \n",
       "886  Toyota Camry  5800000.0       Актобе      False            False   \n",
       "\n",
       "     car_year  odometer  engine  \n",
       "806    2012.0       NaN     3.5  \n",
       "826    2012.0       NaN     3.5  \n",
       "846    2012.0       NaN     3.5  \n",
       "866    2012.0       NaN     3.5  \n",
       "886    2012.0       NaN     3.5  "
      ]
     },
     "execution_count": 80,
     "metadata": {},
     "output_type": "execute_result"
    }
   ],
   "source": [
    "no_odometer = data.loc[np.isnan(data[\"odometer\"])]\n",
    "no_odometer.head()"
   ]
  },
  {
   "cell_type": "markdown",
   "metadata": {},
   "source": [
    "By checking rows with NaN odometer I found out that these are duplicate values (most of it) and must be dropped from the dataframe"
   ]
  },
  {
   "cell_type": "code",
   "execution_count": 81,
   "metadata": {},
   "outputs": [],
   "source": [
    "data = data.loc[data[\"odometer\"].notna()]"
   ]
  },
  {
   "cell_type": "code",
   "execution_count": 82,
   "metadata": {},
   "outputs": [
    {
     "name": "stdout",
     "output_type": "stream",
     "text": [
      "<class 'pandas.core.frame.DataFrame'>\n",
      "Int64Index: 43010 entries, 0 to 3343\n",
      "Data columns (total 8 columns):\n",
      "car_title          43010 non-null object\n",
      "car_price          43010 non-null float64\n",
      "car_location       43010 non-null object\n",
      "pre_order          43010 non-null bool\n",
      "asap_negotiable    43010 non-null bool\n",
      "car_year           43010 non-null float64\n",
      "odometer           43010 non-null float64\n",
      "engine             43010 non-null float64\n",
      "dtypes: bool(2), float64(4), object(2)\n",
      "memory usage: 2.4+ MB\n"
     ]
    }
   ],
   "source": [
    "data.info()"
   ]
  },
  {
   "cell_type": "markdown",
   "metadata": {},
   "source": [
    "## Now I will visualize my data to understand better what am I working with"
   ]
  },
  {
   "cell_type": "code",
   "execution_count": 83,
   "metadata": {},
   "outputs": [
    {
     "data": {
      "image/png": "[encoded data removed]",
      "text/plain": [
       "<Figure size 432x288 with 1 Axes>"
      ]
     },
     "metadata": {
      "needs_background": "light"
     },
     "output_type": "display_data"
    }
   ],
   "source": [
    "ax = sns.boxplot(x=\"car_title\", y=\"odometer\", data=data)"
   ]
  },
  {
   "cell_type": "markdown",
   "metadata": {},
   "source": [
    "According to the graph above, there are several outliers which should be removed as it's number is very low."
   ]
  },
  {
   "cell_type": "code",
   "execution_count": 84,
   "metadata": {},
   "outputs": [
    {
     "name": "stdout",
     "output_type": "stream",
     "text": [
      "<class 'pandas.core.frame.DataFrame'>\n",
      "Int64Index: 42770 entries, 0 to 3343\n",
      "Data columns (total 8 columns):\n",
      "car_title          42770 non-null object\n",
      "car_price          42770 non-null float64\n",
      "car_location       42770 non-null object\n",
      "pre_order          42770 non-null bool\n",
      "asap_negotiable    42770 non-null bool\n",
      "car_year           42770 non-null float64\n",
      "odometer           42770 non-null float64\n",
      "engine             42770 non-null float64\n",
      "dtypes: bool(2), float64(4), object(2)\n",
      "memory usage: 2.4+ MB\n"
     ]
    }
   ],
   "source": [
    "data = data.loc[data[\"odometer\"]<250000]\n",
    "data.info()"
   ]
  },
  {
   "cell_type": "code",
   "execution_count": 85,
   "metadata": {
    "scrolled": true
   },
   "outputs": [
    {
     "data": {
      "image/png": "[encoded data removed]",
      "text/plain": [
       "<Figure size 432x288 with 1 Axes>"
      ]
     },
     "metadata": {
      "needs_background": "light"
     },
     "output_type": "display_data"
    }
   ],
   "source": [
    "ax = sns.boxplot(x=\"car_title\", y=\"odometer\", data=data)"
   ]
  },
  {
   "cell_type": "code",
   "execution_count": 86,
   "metadata": {},
   "outputs": [
    {
     "data": {
      "image/png": "[encoded data removed]",
      "text/plain": [
       "<Figure size 432x288 with 1 Axes>"
      ]
     },
     "metadata": {
      "needs_background": "light"
     },
     "output_type": "display_data"
    }
   ],
   "source": [
    "ax = sns.boxplot(x=\"car_year\", y=\"odometer\", data=data)"
   ]
  },
  {
   "cell_type": "code",
   "execution_count": 87,
   "metadata": {},
   "outputs": [
    {
     "data": {
      "image/png": "[encoded data removed]",
      "text/plain": [
       "<Figure size 432x288 with 1 Axes>"
      ]
     },
     "metadata": {
      "needs_background": "light"
     },
     "output_type": "display_data"
    }
   ],
   "source": [
    "ax = sns.boxplot(x=\"car_title\", y=\"car_price\", data=data)"
   ]
  },
  {
   "cell_type": "code",
   "execution_count": 88,
   "metadata": {
    "scrolled": true
   },
   "outputs": [
    {
     "data": {
      "image/png": "[encoded data removed]",
      "text/plain": [
       "<Figure size 432x288 with 1 Axes>"
      ]
     },
     "metadata": {
      "needs_background": "light"
     },
     "output_type": "display_data"
    }
   ],
   "source": [
    "ax = sns.boxplot(x=\"car_year\", y=\"car_price\", data=data)"
   ]
  },
  {
   "cell_type": "code",
   "execution_count": 93,
   "metadata": {},
   "outputs": [],
   "source": [
    "car_title_dict = {\"Toyota Camry\": 1, \"Kia Optima\": 2, \"Hyundai Sonata\": 3, \"Mazda 6\": 4}\n",
    "data[\"car_title\"] = data[\"car_title\"].map(car_title_dict)"
   ]
  },
  {
   "cell_type": "code",
   "execution_count": 97,
   "metadata": {},
   "outputs": [],
   "source": [
    "data_corr = data.corr()"
   ]
  },
  {
   "cell_type": "code",
   "execution_count": 98,
   "metadata": {},
   "outputs": [
    {
     "data": {
      "image/png": "[encoded data removed]",
      "text/plain": [
       "<Figure size 1080x720 with 2 Axes>"
      ]
     },
     "metadata": {
      "needs_background": "light"
     },
     "output_type": "display_data"
    }
   ],
   "source": [
    "fig, ax = plt.subplots(figsize=(15,10))\n",
    "cax = ax.matshow(data_corr, cmap=\"coolwarm\", vmin=-1, vmax=1, aspect=\"auto\")\n",
    "x = np.arange(len(data_corr.columns))\n",
    "\n",
    "ax.set_title(\"Correlation between car variables\", {\"fontsize\": 18, \"fontweight\": \"bold\"}, pad=80)\n",
    "fig.colorbar(cax, ticks=[-1,-0.5,0,0.5,1], shrink=0.8)\n",
    "ax.set_xticks(x)\n",
    "ax.set_yticks(x)\n",
    "ax.set_xticklabels(data_corr.columns)\n",
    "ax.set_yticklabels(data_corr.columns)\n",
    "plt.show()"
   ]
  },
  {
   "cell_type": "markdown",
   "metadata": {},
   "source": [
    "As negotiability does not have significant relationship with other variables, it can be removed from the dataset. Intuitionally, older cars are cheaper as well as the cars with bigger traveled distance. Cars that require pre-order may cost higher as well as the powerful cars."
   ]
  },
  {
   "cell_type": "markdown",
   "metadata": {},
   "source": [
    "### Creating train and test sets"
   ]
  },
  {
   "cell_type": "code",
   "execution_count": 99,
   "metadata": {},
   "outputs": [
    {
     "data": {
      "text/html": [
       "<div>\n",
       "<style scoped>\n",
       "    .dataframe tbody tr th:only-of-type {\n",
       "        vertical-align: middle;\n",
       "    }\n",
       "\n",
       "    .dataframe tbody tr th {\n",
       "        vertical-align: top;\n",
       "    }\n",
       "\n",
       "    .dataframe thead th {\n",
       "        text-align: right;\n",
       "    }\n",
       "</style>\n",
       "<table border=\"1\" class=\"dataframe\">\n",
       "  <thead>\n",
       "    <tr style=\"text-align: right;\">\n",
       "      <th></th>\n",
       "      <th>car_title</th>\n",
       "      <th>car_price</th>\n",
       "      <th>car_location</th>\n",
       "      <th>pre_order</th>\n",
       "      <th>asap_negotiable</th>\n",
       "      <th>car_year</th>\n",
       "      <th>odometer</th>\n",
       "      <th>engine</th>\n",
       "    </tr>\n",
       "  </thead>\n",
       "  <tbody>\n",
       "    <tr>\n",
       "      <th>0</th>\n",
       "      <td>1</td>\n",
       "      <td>10700000.0</td>\n",
       "      <td>Костанай</td>\n",
       "      <td>False</td>\n",
       "      <td>False</td>\n",
       "      <td>2019.0</td>\n",
       "      <td>12000.0</td>\n",
       "      <td>2.0</td>\n",
       "    </tr>\n",
       "    <tr>\n",
       "      <th>1</th>\n",
       "      <td>1</td>\n",
       "      <td>11900000.0</td>\n",
       "      <td>Костанай</td>\n",
       "      <td>False</td>\n",
       "      <td>False</td>\n",
       "      <td>2018.0</td>\n",
       "      <td>40000.0</td>\n",
       "      <td>2.5</td>\n",
       "    </tr>\n",
       "    <tr>\n",
       "      <th>2</th>\n",
       "      <td>1</td>\n",
       "      <td>10600000.0</td>\n",
       "      <td>Шымкент</td>\n",
       "      <td>False</td>\n",
       "      <td>False</td>\n",
       "      <td>2017.0</td>\n",
       "      <td>32686.0</td>\n",
       "      <td>2.5</td>\n",
       "    </tr>\n",
       "    <tr>\n",
       "      <th>3</th>\n",
       "      <td>1</td>\n",
       "      <td>13300000.0</td>\n",
       "      <td>Нур-Султан (Астана)</td>\n",
       "      <td>False</td>\n",
       "      <td>False</td>\n",
       "      <td>2018.0</td>\n",
       "      <td>18100.0</td>\n",
       "      <td>2.5</td>\n",
       "    </tr>\n",
       "    <tr>\n",
       "      <th>5</th>\n",
       "      <td>1</td>\n",
       "      <td>10200000.0</td>\n",
       "      <td>Атырау</td>\n",
       "      <td>False</td>\n",
       "      <td>False</td>\n",
       "      <td>2016.0</td>\n",
       "      <td>59000.0</td>\n",
       "      <td>2.5</td>\n",
       "    </tr>\n",
       "  </tbody>\n",
       "</table>\n",
       "</div>"
      ],
      "text/plain": [
       "   car_title   car_price         car_location  pre_order  asap_negotiable  \\\n",
       "0          1  10700000.0             Костанай      False            False   \n",
       "1          1  11900000.0             Костанай      False            False   \n",
       "2          1  10600000.0              Шымкент      False            False   \n",
       "3          1  13300000.0  Нур-Султан (Астана)      False            False   \n",
       "5          1  10200000.0               Атырау      False            False   \n",
       "\n",
       "   car_year  odometer  engine  \n",
       "0    2019.0   12000.0     2.0  \n",
       "1    2018.0   40000.0     2.5  \n",
       "2    2017.0   32686.0     2.5  \n",
       "3    2018.0   18100.0     2.5  \n",
       "5    2016.0   59000.0     2.5  "
      ]
     },
     "execution_count": 99,
     "metadata": {},
     "output_type": "execute_result"
    }
   ],
   "source": [
    "data.head()"
   ]
  },
  {
   "cell_type": "code",
   "execution_count": 100,
   "metadata": {},
   "outputs": [],
   "source": [
    "from sklearn.model_selection import train_test_split\n",
    "from sklearn.datasets import load_iris"
   ]
  },
  {
   "cell_type": "code",
   "execution_count": null,
   "metadata": {},
   "outputs": [],
   "source": []
  }
 ],
 "metadata": {
  "kernelspec": {
   "display_name": "Python 3",
   "language": "python",
   "name": "python3"
  },
  "language_info": {
   "codemirror_mode": {
    "name": "ipython",
    "version": 3
   },
   "file_extension": ".py",
   "mimetype": "text/x-python",
   "name": "python",
   "nbconvert_exporter": "python",
   "pygments_lexer": "ipython3",
   "version": "3.7.3"
  }
 },
 "nbformat": 4,
 "nbformat_minor": 2
}
